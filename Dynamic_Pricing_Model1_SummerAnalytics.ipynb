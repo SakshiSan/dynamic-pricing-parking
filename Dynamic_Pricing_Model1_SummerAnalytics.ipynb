{
 "cells": [
  {
   "cell_type": "code",
   "execution_count": null,
   "metadata": {},
   "outputs": [],
   "source": [
    "!pip install pathway bokeh --quiet"
   ]
  },
  {
   "cell_type": "markdown",
   "metadata": {},
   "source": [
    "# 🚗 Model 1: Baseline Linear Pricing Model\n",
    "This notebook calculates real-time parking prices using a simple linear logic based on occupancy and capacity.\n"
   ]
  },
  {
   "cell_type": "code",
   "execution_count": null,
   "metadata": {},
   "outputs": [],
   "source": [
    "import numpy as np\n",
    "import pandas as pd\n",
    "import datetime\n",
    "from datetime import datetime\n",
    "import pathway as pw\n",
    "import bokeh.plotting\n",
    "import panel as pn"
   ]
  },
  {
   "cell_type": "markdown",
   "metadata": {},
   "source": [
    "# Step 1: Importing and Preprocessing the Data"
   ]
  },
  {
   "cell_type": "code",
   "execution_count": null,
   "metadata": {},
   "outputs": [],
   "source": [
    "df = pd.read_csv('https://raw.githubusercontent.com/SakshiSan/dynamic-pricing-parking/main/dataset.csv')\n",
    "display(df)"
   ]
  },
  {
   "cell_type": "markdown",
   "metadata": {},
   "source": [
    "### 🕒 Combine Date & Time Columns\n",
    "We create a new timestamp column by combining 'LastUpdatedDate' and 'LastUpdatedTime'.\n"
   ]
  },
  {
   "cell_type": "code",
   "execution_count": null,
   "metadata": {},
   "outputs": [],
   "source": [
    "df['Timestamp'] = pd.to_datetime(df['LastUpdatedDate'] + ' ' + df['LastUpdatedTime'],\n",
    "                                  format='%d-%m-%Y %H:%M:%S')\n",
    "\n",
    "df = df.sort_values('Timestamp').reset_index(drop=True)"
   ]
  },
  {
   "cell_type": "markdown",
   "metadata": {},
   "source": [
    "### 💾 Save Selected Columns for Pathway Stream Simulation\n"
   ]
  },
  {
   "cell_type": "code",
   "execution_count": null,
   "metadata": {},
   "outputs": [],
   "source": [
    "df[[\"Timestamp\", \"Occupancy\", \"Capacity\"]].to_csv(\"parking_stream.csv\", index=False)"
   ]
  },
  {
   "cell_type": "markdown",
   "metadata": {},
   "source": [
    "### 🏗️ Define Schema\n",
    "I defined the structure of incoming streaming data using Pathway’s Schema class.\n"
   ]
  },
  {
   "cell_type": "code",
   "execution_count": null,
   "metadata": {},
   "outputs": [],
   "source": [
    "class ParkingSchema(pw.Schema):\n",
    "    Timestamp: str\n",
    "    Occupancy: int\n",
    "    Capacity: int"
   ]
  },
  {
   "cell_type": "markdown",
   "metadata": {},
   "source": [
    "### 🔁 Load Streaming Data\n",
    "I simulated real-time data ingestion using `replay_csv()` at a defined rate of 1000 rows/sec.\n"
   ]
  },
  {
   "cell_type": "code",
   "execution_count": null,
   "metadata": {},
   "outputs": [],
   "source": [
    "data = pw.demo.replay_csv(\"parking_stream.csv\", schema=ParkingSchema, input_rate=1000)"
   ]
  },
  {
   "cell_type": "markdown",
   "metadata": {},
   "source": [
    "### 🕒 Convert and Extract Time Information\n",
    "I parse the timestamp into a datetime object and extract the day for daily analysis.\n"
   ]
  },
  {
   "cell_type": "code",
   "execution_count": null,
   "metadata": {},
   "outputs": [],
   "source": [
    "fmt = \"%Y-%m-%d %H:%M:%S\"\n",
    "data_with_time = data.with_columns(\n",
    "    t = data.Timestamp.dt.strptime(fmt),\n",
    "    day = data.Timestamp.dt.strptime(fmt).dt.strftime(\"%Y-%m-%dT00:00:00\")\n",
    ")"
   ]
  },
  {
   "cell_type": "markdown",
   "metadata": {},
   "source": [
    "# Step 2: Making a simple pricing function"
   ]
  },
  {
   "cell_type": "markdown",
   "metadata": {},
   "source": [
    "### 📊 Daily Aggregation & Price Calculation\n",
    "We calculate the daily price using:\n"
   ]
  },
  {
   "cell_type": "code",
   "execution_count": null,
   "metadata": {},
   "outputs": [],
   "source": [
    "import datetime\n",
    "\n",
    "delta_window = (\n",
    "    data_with_time.windowby(\n",
    "        pw.this.t,\n",
    "        instance=pw.this.day,\n",
    "        window=pw.temporal.tumbling(datetime.timedelta(days=1)),\n",
    "        behavior=pw.temporal.exactly_once_behavior()\n",
    "    )\n",
    "    .reduce(\n",
    "        t=pw.this._pw_window_end,\n",
    "        occ_max=pw.reducers.max(pw.this.Occupancy),\n",
    "        occ_min=pw.reducers.min(pw.this.Occupancy),\n",
    "        cap=pw.reducers.max(pw.this.Capacity),\n",
    "    )\n",
    "    .with_columns(\n",
    "         price=10 + (pw.this.occ_max - pw.this.occ_min) / pw.this.cap\n",
    "    )\n",
    ")"
   ]
  },
  {
   "cell_type": "markdown",
   "metadata": {},
   "source": [
    "# Step 3: Visualizing Daily Price Fluctuations with a Bokeh Plot"
   ]
  },
  {
   "cell_type": "markdown",
   "metadata": {},
   "source": [
    "### 📉 Bokeh Visualization for Final Price\n"
   ]
  },
  {
   "cell_type": "code",
   "execution_count": null,
   "metadata": {},
   "outputs": [],
   "source": [
    "pn.extension()\n",
    "def price_plotter(source):\n",
    "    fig = bokeh.plotting.figure(\n",
    "        height=400,\n",
    "        width=800,\n",
    "        title=\"Pathway: Daily Parking Price\",\n",
    "        x_axis_type=\"datetime\",\n",
    "    )\n",
    "\n",
    "    fig.line(\"t\", \"price\", source=source, line_width=2, color=\"navy\")\n",
    "    fig.scatter(\"t\", \"price\", source=source, size=6, color=\"red\")\n",
    "    return fig\n",
    "\n",
    "viz = delta_window.plot(price_plotter, sorting_col=\"t\")\n",
    "pn.Column(viz).servable()"
   ]
  },
  {
   "cell_type": "code",
   "execution_count": null,
   "metadata": {},
   "outputs": [],
   "source": [
    "%%capture --no-display\n",
    "pw.run()"
   ]
  }
 ],
 "metadata": {
  "colab": {
   "provenance": []
  },
  "kernelspec": {
   "display_name": "Python 3",
   "name": "python3"
  },
  "language_info": {
   "name": "python"
  }
 },
 "nbformat": 4,
 "nbformat_minor": 0
}
